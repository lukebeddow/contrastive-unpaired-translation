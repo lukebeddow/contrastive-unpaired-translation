{
 "cells": [
  {
   "cell_type": "code",
   "execution_count": 1,
   "metadata": {},
   "outputs": [],
   "source": [
    "from networks import define_G\n",
    "import torch\n",
    "import time"
   ]
  },
  {
   "cell_type": "code",
   "execution_count": 4,
   "metadata": {},
   "outputs": [
    {
     "name": "stdout",
     "output_type": "stream",
     "text": [
      "self.model Sequential(\n",
      "  (0): ReflectionPad2d((3, 3, 3, 3))\n",
      "  (1): Conv2d(3, 64, kernel_size=(7, 7), stride=(1, 1))\n",
      "  (2): InstanceNorm2d(64, eps=1e-05, momentum=0.1, affine=False, track_running_stats=False)\n",
      "  (3): ReLU(inplace=True)\n",
      "  (4): Conv2d(64, 128, kernel_size=(3, 3), stride=(1, 1), padding=(1, 1))\n",
      "  (5): InstanceNorm2d(128, eps=1e-05, momentum=0.1, affine=False, track_running_stats=False)\n",
      "  (6): ReLU(inplace=True)\n",
      "  (7): Downsample(\n",
      "    (pad): ReflectionPad2d((1, 1, 1, 1))\n",
      "  )\n",
      "  (8): Conv2d(128, 256, kernel_size=(3, 3), stride=(1, 1), padding=(1, 1))\n",
      "  (9): InstanceNorm2d(256, eps=1e-05, momentum=0.1, affine=False, track_running_stats=False)\n",
      "  (10): ReLU(inplace=True)\n",
      "  (11): Downsample(\n",
      "    (pad): ReflectionPad2d((1, 1, 1, 1))\n",
      "  )\n",
      "  (12): ResnetBlock(\n",
      "    (conv_block): Sequential(\n",
      "      (0): ReflectionPad2d((1, 1, 1, 1))\n",
      "      (1): Conv2d(256, 256, kernel_size=(3, 3), stride=(1, 1))\n",
      "      (2): InstanceNorm2d(256, eps=1e-05, momentum=0.1, affine=False, track_running_stats=False)\n",
      "      (3): ReLU(inplace=True)\n",
      "      (4): ReflectionPad2d((1, 1, 1, 1))\n",
      "      (5): Conv2d(256, 256, kernel_size=(3, 3), stride=(1, 1))\n",
      "      (6): InstanceNorm2d(256, eps=1e-05, momentum=0.1, affine=False, track_running_stats=False)\n",
      "    )\n",
      "  )\n",
      "  (13): ResnetBlock(\n",
      "    (conv_block): Sequential(\n",
      "      (0): ReflectionPad2d((1, 1, 1, 1))\n",
      "      (1): Conv2d(256, 256, kernel_size=(3, 3), stride=(1, 1))\n",
      "      (2): InstanceNorm2d(256, eps=1e-05, momentum=0.1, affine=False, track_running_stats=False)\n",
      "      (3): ReLU(inplace=True)\n",
      "      (4): ReflectionPad2d((1, 1, 1, 1))\n",
      "      (5): Conv2d(256, 256, kernel_size=(3, 3), stride=(1, 1))\n",
      "      (6): InstanceNorm2d(256, eps=1e-05, momentum=0.1, affine=False, track_running_stats=False)\n",
      "    )\n",
      "  )\n",
      "  (14): ResnetBlock(\n",
      "    (conv_block): Sequential(\n",
      "      (0): ReflectionPad2d((1, 1, 1, 1))\n",
      "      (1): Conv2d(256, 256, kernel_size=(3, 3), stride=(1, 1))\n",
      "      (2): InstanceNorm2d(256, eps=1e-05, momentum=0.1, affine=False, track_running_stats=False)\n",
      "      (3): ReLU(inplace=True)\n",
      "      (4): ReflectionPad2d((1, 1, 1, 1))\n",
      "      (5): Conv2d(256, 256, kernel_size=(3, 3), stride=(1, 1))\n",
      "      (6): InstanceNorm2d(256, eps=1e-05, momentum=0.1, affine=False, track_running_stats=False)\n",
      "    )\n",
      "  )\n",
      "  (15): ResnetBlock(\n",
      "    (conv_block): Sequential(\n",
      "      (0): ReflectionPad2d((1, 1, 1, 1))\n",
      "      (1): Conv2d(256, 256, kernel_size=(3, 3), stride=(1, 1))\n",
      "      (2): InstanceNorm2d(256, eps=1e-05, momentum=0.1, affine=False, track_running_stats=False)\n",
      "      (3): ReLU(inplace=True)\n",
      "      (4): ReflectionPad2d((1, 1, 1, 1))\n",
      "      (5): Conv2d(256, 256, kernel_size=(3, 3), stride=(1, 1))\n",
      "      (6): InstanceNorm2d(256, eps=1e-05, momentum=0.1, affine=False, track_running_stats=False)\n",
      "    )\n",
      "  )\n",
      "  (16): ResnetBlock(\n",
      "    (conv_block): Sequential(\n",
      "      (0): ReflectionPad2d((1, 1, 1, 1))\n",
      "      (1): Conv2d(256, 256, kernel_size=(3, 3), stride=(1, 1))\n",
      "      (2): InstanceNorm2d(256, eps=1e-05, momentum=0.1, affine=False, track_running_stats=False)\n",
      "      (3): ReLU(inplace=True)\n",
      "      (4): ReflectionPad2d((1, 1, 1, 1))\n",
      "      (5): Conv2d(256, 256, kernel_size=(3, 3), stride=(1, 1))\n",
      "      (6): InstanceNorm2d(256, eps=1e-05, momentum=0.1, affine=False, track_running_stats=False)\n",
      "    )\n",
      "  )\n",
      "  (17): ResnetBlock(\n",
      "    (conv_block): Sequential(\n",
      "      (0): ReflectionPad2d((1, 1, 1, 1))\n",
      "      (1): Conv2d(256, 256, kernel_size=(3, 3), stride=(1, 1))\n",
      "      (2): InstanceNorm2d(256, eps=1e-05, momentum=0.1, affine=False, track_running_stats=False)\n",
      "      (3): ReLU(inplace=True)\n",
      "      (4): ReflectionPad2d((1, 1, 1, 1))\n",
      "      (5): Conv2d(256, 256, kernel_size=(3, 3), stride=(1, 1))\n",
      "      (6): InstanceNorm2d(256, eps=1e-05, momentum=0.1, affine=False, track_running_stats=False)\n",
      "    )\n",
      "  )\n",
      "  (18): ResnetBlock(\n",
      "    (conv_block): Sequential(\n",
      "      (0): ReflectionPad2d((1, 1, 1, 1))\n",
      "      (1): Conv2d(256, 256, kernel_size=(3, 3), stride=(1, 1))\n",
      "      (2): InstanceNorm2d(256, eps=1e-05, momentum=0.1, affine=False, track_running_stats=False)\n",
      "      (3): ReLU(inplace=True)\n",
      "      (4): ReflectionPad2d((1, 1, 1, 1))\n",
      "      (5): Conv2d(256, 256, kernel_size=(3, 3), stride=(1, 1))\n",
      "      (6): InstanceNorm2d(256, eps=1e-05, momentum=0.1, affine=False, track_running_stats=False)\n",
      "    )\n",
      "  )\n",
      "  (19): ResnetBlock(\n",
      "    (conv_block): Sequential(\n",
      "      (0): ReflectionPad2d((1, 1, 1, 1))\n",
      "      (1): Conv2d(256, 256, kernel_size=(3, 3), stride=(1, 1))\n",
      "      (2): InstanceNorm2d(256, eps=1e-05, momentum=0.1, affine=False, track_running_stats=False)\n",
      "      (3): ReLU(inplace=True)\n",
      "      (4): ReflectionPad2d((1, 1, 1, 1))\n",
      "      (5): Conv2d(256, 256, kernel_size=(3, 3), stride=(1, 1))\n",
      "      (6): InstanceNorm2d(256, eps=1e-05, momentum=0.1, affine=False, track_running_stats=False)\n",
      "    )\n",
      "  )\n",
      "  (20): ResnetBlock(\n",
      "    (conv_block): Sequential(\n",
      "      (0): ReflectionPad2d((1, 1, 1, 1))\n",
      "      (1): Conv2d(256, 256, kernel_size=(3, 3), stride=(1, 1))\n",
      "      (2): InstanceNorm2d(256, eps=1e-05, momentum=0.1, affine=False, track_running_stats=False)\n",
      "      (3): ReLU(inplace=True)\n",
      "      (4): ReflectionPad2d((1, 1, 1, 1))\n",
      "      (5): Conv2d(256, 256, kernel_size=(3, 3), stride=(1, 1))\n",
      "      (6): InstanceNorm2d(256, eps=1e-05, momentum=0.1, affine=False, track_running_stats=False)\n",
      "    )\n",
      "  )\n",
      "  (21): Upsample(\n",
      "    (pad): ReplicationPad2d((1, 1, 1, 1))\n",
      "  )\n",
      "  (22): Conv2d(256, 128, kernel_size=(3, 3), stride=(1, 1), padding=(1, 1))\n",
      "  (23): InstanceNorm2d(128, eps=1e-05, momentum=0.1, affine=False, track_running_stats=False)\n",
      "  (24): ReLU(inplace=True)\n",
      "  (25): Upsample(\n",
      "    (pad): ReplicationPad2d((1, 1, 1, 1))\n",
      "  )\n",
      "  (26): Conv2d(128, 64, kernel_size=(3, 3), stride=(1, 1), padding=(1, 1))\n",
      "  (27): InstanceNorm2d(64, eps=1e-05, momentum=0.1, affine=False, track_running_stats=False)\n",
      "  (28): ReLU(inplace=True)\n",
      "  (29): ReflectionPad2d((3, 3, 3, 3))\n",
      "  (30): Conv2d(64, 3, kernel_size=(7, 7), stride=(1, 1))\n",
      "  (31): Tanh()\n",
      ")\n",
      "len(model) 32\n"
     ]
    }
   ],
   "source": [
    "input_nc = 3\n",
    "output_nc = 3\n",
    "ngf = 64\n",
    "netD = \"basic\"\n",
    "netG = \"resnet_9blocks\"\n",
    "normG = \"instance\"\n",
    "dropout = False\n",
    "init_type = \"xavier\"\n",
    "init_gain = 0.02\n",
    "no_antialias = False\n",
    "no_antialias_up = False\n",
    "gpu_id = [0]\n",
    "opt = None\n",
    "mynet = define_G(input_nc, output_nc, ngf, netG, normG, dropout, init_type,\n",
    "                    init_gain, no_antialias, no_antialias_up, gpu_id, opt)\n",
    "\n",
    "print(\"self.model\", mynet.model)\n",
    "print(\"len(model)\", len(mynet.model))\n"
   ]
  },
  {
   "cell_type": "code",
   "execution_count": 10,
   "metadata": {},
   "outputs": [
    {
     "name": "stdout",
     "output_type": "stream",
     "text": [
      "Sequential(\n",
      "  (0): ReflectionPad2d((3, 3, 3, 3))\n",
      "  (1): Conv2d(3, 64, kernel_size=(7, 7), stride=(1, 1))\n",
      "  (2): InstanceNorm2d(64, eps=1e-05, momentum=0.1, affine=False, track_running_stats=False)\n",
      ")\n"
     ]
    }
   ],
   "source": [
    "test = mynet.model[:3]\n",
    "\n",
    "print(test)"
   ]
  },
  {
   "cell_type": "code",
   "execution_count": 11,
   "metadata": {},
   "outputs": [
    {
     "name": "stdout",
     "output_type": "stream",
     "text": [
      "torch.Size([1, 64, 128, 128])\n"
     ]
    }
   ],
   "source": [
    "x = 128\n",
    "\n",
    "img = torch.rand((1, 3, x, x)).to(torch.device(\"cuda\"))\n",
    "out = test(img)\n",
    "\n",
    "print(out.shape)"
   ]
  },
  {
   "cell_type": "code",
   "execution_count": 3,
   "metadata": {},
   "outputs": [
    {
     "name": "stdout",
     "output_type": "stream",
     "text": [
      "Time taken on GPU 6.2 milliseconds\n",
      "Time taken on CPU 88.5 milliseconds\n"
     ]
    }
   ],
   "source": [
    "x = 128\n",
    "\n",
    "img = torch.rand((1, 3, x, x)).to(torch.device(\"cuda\"))\n",
    "out = mynet(img)\n",
    "\n",
    "import time\n",
    "\n",
    "t0 = time.time()\n",
    "out = mynet(img)\n",
    "t1 = time.time()\n",
    "\n",
    "print(f\"Time taken on GPU {(t1 - t0) * 1000:.1f} milliseconds\")\n",
    "\n",
    "mynet.model.to(torch.device(\"cpu\"))\n",
    "img = torch.rand((1, 3, x, x))\n",
    "\n",
    "t2 = time.time()\n",
    "out = mynet(img)\n",
    "t3 = time.time()\n",
    "\n",
    "print(f\"Time taken on CPU {(t3 - t2) * 1000:.1f} milliseconds\")"
   ]
  }
 ],
 "metadata": {
  "kernelspec": {
   "display_name": "py3.8_mujoco",
   "language": "python",
   "name": "python3"
  },
  "language_info": {
   "codemirror_mode": {
    "name": "ipython",
    "version": 3
   },
   "file_extension": ".py",
   "mimetype": "text/x-python",
   "name": "python",
   "nbconvert_exporter": "python",
   "pygments_lexer": "ipython3",
   "version": "3.8.10"
  }
 },
 "nbformat": 4,
 "nbformat_minor": 2
}
